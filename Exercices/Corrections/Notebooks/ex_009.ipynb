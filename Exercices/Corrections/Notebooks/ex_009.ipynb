{
 "cells": [
  {
   "cell_type": "code",
   "execution_count": 1,
   "id": "41e83d8d",
   "metadata": {},
   "outputs": [
    {
     "name": "stdout",
     "output_type": "stream",
     "text": [
      "Durée nécessaire pour l'ascension: 13 jour(s) et 12 nuit(s)\n"
     ]
    }
   ],
   "source": [
    "hauteur_cible_m = 15\n",
    "hauteur_actuelle_m = 0\n",
    "ascension_jour_m = 3\n",
    "glissement_nuit_m = 2\n",
    "en_journee = True\n",
    "\n",
    "nb_jours = 0\n",
    "nb_nuits = 0\n",
    "while hauteur_actuelle_m < hauteur_cible_m:\n",
    "    if en_journee:\n",
    "        hauteur_actuelle_m += ascension_jour_m\n",
    "        nb_jours += 1\n",
    "    else:\n",
    "        hauteur_actuelle_m -= glissement_nuit_m\n",
    "        nb_nuits += 1\n",
    "\n",
    "    en_journee = not en_journee\n",
    "\n",
    "print(f\"Durée nécessaire pour l'ascension: {nb_jours} jour(s) et {nb_nuits} nuit(s)\")"
   ]
  },
  {
   "cell_type": "code",
   "execution_count": null,
   "id": "c9b8c367",
   "metadata": {},
   "outputs": [],
   "source": []
  }
 ],
 "metadata": {
  "kernelspec": {
   "display_name": "Python 3 (ipykernel)",
   "language": "python",
   "name": "python3"
  },
  "language_info": {
   "codemirror_mode": {
    "name": "ipython",
    "version": 3
   },
   "file_extension": ".py",
   "mimetype": "text/x-python",
   "name": "python",
   "nbconvert_exporter": "python",
   "pygments_lexer": "ipython3",
   "version": "3.10.9"
  }
 },
 "nbformat": 4,
 "nbformat_minor": 5
}
