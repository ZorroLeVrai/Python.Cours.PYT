{
 "cells": [
  {
   "cell_type": "code",
   "execution_count": 1,
   "id": "ddc1e63c",
   "metadata": {},
   "outputs": [],
   "source": [
    "def inverser_chaine(text: str) -> str:\n",
    "    chaine_inversee = \"\"\n",
    "    for index in range(len(text)-1, -1, -1):\n",
    "        chaine_inversee += text[index]\n",
    "\n",
    "    return chaine_inversee\n",
    "\n",
    "def inverser_chaine_v2(text: str) -> str:\n",
    "    chars = list(text)\n",
    "    chars.reverse()\n",
    "    return \"\".join(chars)\n",
    "\n",
    "def inverser_chaine_v3(text: str) -> str:\n",
    "    return text[::-1]"
   ]
  },
  {
   "cell_type": "code",
   "execution_count": 2,
   "id": "7fe35879",
   "metadata": {},
   "outputs": [
    {
     "name": "stdout",
     "output_type": "stream",
     "text": [
      "ruojnoB\n",
      "ruojnoB\n",
      "ruojnoB\n"
     ]
    }
   ],
   "source": [
    "texte = \"Bonjour\"\n",
    "print(inverser_chaine(texte))\n",
    "print(inverser_chaine_v2(texte))\n",
    "print(inverser_chaine_v3(texte))"
   ]
  },
  {
   "cell_type": "code",
   "execution_count": null,
   "id": "5e2e3e7c",
   "metadata": {},
   "outputs": [],
   "source": []
  }
 ],
 "metadata": {
  "kernelspec": {
   "display_name": "Python 3 (ipykernel)",
   "language": "python",
   "name": "python3"
  },
  "language_info": {
   "codemirror_mode": {
    "name": "ipython",
    "version": 3
   },
   "file_extension": ".py",
   "mimetype": "text/x-python",
   "name": "python",
   "nbconvert_exporter": "python",
   "pygments_lexer": "ipython3",
   "version": "3.10.9"
  }
 },
 "nbformat": 4,
 "nbformat_minor": 5
}
