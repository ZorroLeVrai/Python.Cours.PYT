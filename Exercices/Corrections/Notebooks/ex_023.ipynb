{
 "cells": [
  {
   "cell_type": "code",
   "execution_count": 2,
   "id": "a43df3da",
   "metadata": {},
   "outputs": [],
   "source": [
    "class WaterTank:\n",
    "    \"\"\"Classe qui permet la gestion d'une citerne\"\"\"\n",
    "\n",
    "    total_volume = 0.0\n",
    "\n",
    "    def __init__(self, poids_vide: float, capacite_max: float, niveau_remplissage: float):\n",
    "        # Poids à vide en Kg\n",
    "        self.poids_vide = poids_vide\n",
    "        # Capacité max de la citerne en litres\n",
    "        self.capacite_max = capacite_max\n",
    "        # Niveau de remplissage de la citerne en litres\n",
    "        self.niveau_remplissage = niveau_remplissage\n",
    "        WaterTank.total_volume += niveau_remplissage\n",
    "\n",
    "    @property\n",
    "    def poids_total(self) -> float:\n",
    "        return self.poids_vide + self.capacite_max\n",
    "\n",
    "    def remplir_citerne(self, nb_litres: float) -> float:\n",
    "        \"\"\"\n",
    "        Remplir la citerne\n",
    "\n",
    "        nb_litres: Nombre de litres à ajouter\n",
    "        returns: Nombre de litres réellement ajoutés\n",
    "        \"\"\"\n",
    "        nb_litres_ajoutes = nb_litres if self.niveau_remplissage + nb_litres <= self.capacite_max \\\n",
    "            else self.capacite_max - self.niveau_remplissage\n",
    "\n",
    "        self.niveau_remplissage += nb_litres_ajoutes\n",
    "        WaterTank.total_volume += nb_litres_ajoutes\n",
    "        return nb_litres_ajoutes\n",
    "\n",
    "    def vider_citerne(self, nb_litres: float) -> float:\n",
    "        \"\"\"\n",
    "        Vider la citerne\n",
    "\n",
    "        nb_litres: Nombre de litres à enlever\n",
    "        returns: Nombre de litres réellement enlevés\n",
    "        \"\"\"\n",
    "        nb_litres_retires = nb_litres if self.niveau_remplissage - nb_litres >= 0 \\\n",
    "            else self.niveau_remplissage\n",
    "\n",
    "        self.niveau_remplissage -= nb_litres_retires\n",
    "        WaterTank.total_volume -= nb_litres_retires\n",
    "        return nb_litres_retires"
   ]
  },
  {
   "cell_type": "code",
   "execution_count": 3,
   "id": "4f33f3af",
   "metadata": {},
   "outputs": [
    {
     "name": "stdout",
     "output_type": "stream",
     "text": [
      "0.0\n",
      "750.0\n",
      "1000.0\n",
      "Poids total: 1100\n"
     ]
    }
   ],
   "source": [
    "citerne1 = WaterTank(100, 1000, 0)\n",
    "citerne2 = WaterTank(100, 1000, 0)\n",
    "print(WaterTank.total_volume)\n",
    "\n",
    "citerne1.remplir_citerne(250)\n",
    "citerne2.remplir_citerne(500)\n",
    "print(WaterTank.total_volume)\n",
    "\n",
    "citerne1.vider_citerne(300)\n",
    "citerne2.remplir_citerne(600)\n",
    "print(WaterTank.total_volume)\n",
    "\n",
    "print(f\"Poids total: {citerne2.poids_total}\")"
   ]
  },
  {
   "cell_type": "code",
   "execution_count": null,
   "id": "c1ed97c0",
   "metadata": {},
   "outputs": [],
   "source": []
  }
 ],
 "metadata": {
  "kernelspec": {
   "display_name": "Python 3 (ipykernel)",
   "language": "python",
   "name": "python3"
  },
  "language_info": {
   "codemirror_mode": {
    "name": "ipython",
    "version": 3
   },
   "file_extension": ".py",
   "mimetype": "text/x-python",
   "name": "python",
   "nbconvert_exporter": "python",
   "pygments_lexer": "ipython3",
   "version": "3.10.9"
  }
 },
 "nbformat": 4,
 "nbformat_minor": 5
}
