{
 "cells": [
  {
   "cell_type": "markdown",
   "id": "cac599ea",
   "metadata": {},
   "source": [
    "## Analyse des villes de France\n",
    "**Exercice 32** du cours Python Objet (PYT)"
   ]
  },
  {
   "cell_type": "code",
   "execution_count": 2,
   "id": "50b9098f",
   "metadata": {},
   "outputs": [],
   "source": [
    "#importation des librairies\n",
    "import pandas as pd\n",
    "import os\n",
    "\n",
    "#paramètres de l'application\n",
    "file_location = \"./Data/Villes_France\""
   ]
  },
  {
   "cell_type": "code",
   "execution_count": null,
   "id": "0271667e",
   "metadata": {},
   "outputs": [],
   "source": []
  }
 ],
 "metadata": {
  "kernelspec": {
   "display_name": "Python 3 (ipykernel)",
   "language": "python",
   "name": "python3"
  },
  "language_info": {
   "codemirror_mode": {
    "name": "ipython",
    "version": 3
   },
   "file_extension": ".py",
   "mimetype": "text/x-python",
   "name": "python",
   "nbconvert_exporter": "python",
   "pygments_lexer": "ipython3",
   "version": "3.10.9"
  }
 },
 "nbformat": 4,
 "nbformat_minor": 5
}
