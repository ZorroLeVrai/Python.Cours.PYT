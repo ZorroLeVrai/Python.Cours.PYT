{
 "cells": [
  {
   "cell_type": "code",
   "execution_count": 1,
   "id": "443c7a72",
   "metadata": {},
   "outputs": [],
   "source": [
    "import sys"
   ]
  },
  {
   "cell_type": "code",
   "execution_count": 2,
   "id": "99567757",
   "metadata": {},
   "outputs": [],
   "source": [
    "def generateur_alphabet(est_majuscule: bool) -> str:\n",
    "    resultat = \"\"\n",
    "    ascii_char_debut = ord('A') if est_majuscule else ord('a')\n",
    "    for ascii_char in range(ascii_char_debut, ascii_char_debut+26):\n",
    "        resultat += chr(ascii_char)\n",
    "    return resultat"
   ]
  },
  {
   "cell_type": "code",
   "execution_count": 3,
   "id": "8d642a30",
   "metadata": {},
   "outputs": [
    {
     "data": {
      "text/plain": [
       "'abcdefghijklmnopqrstuvwxyz'"
      ]
     },
     "execution_count": 3,
     "metadata": {},
     "output_type": "execute_result"
    }
   ],
   "source": [
    "generateur_alphabet(False)"
   ]
  },
  {
   "cell_type": "code",
   "execution_count": 4,
   "id": "7170efd1",
   "metadata": {},
   "outputs": [
    {
     "data": {
      "text/plain": [
       "'ABCDEFGHIJKLMNOPQRSTUVWXYZ'"
      ]
     },
     "execution_count": 4,
     "metadata": {},
     "output_type": "execute_result"
    }
   ],
   "source": [
    "generateur_alphabet(True)"
   ]
  },
  {
   "cell_type": "code",
   "execution_count": null,
   "id": "9fb980b1",
   "metadata": {},
   "outputs": [],
   "source": []
  }
 ],
 "metadata": {
  "kernelspec": {
   "display_name": "Python 3 (ipykernel)",
   "language": "python",
   "name": "python3"
  },
  "language_info": {
   "codemirror_mode": {
    "name": "ipython",
    "version": 3
   },
   "file_extension": ".py",
   "mimetype": "text/x-python",
   "name": "python",
   "nbconvert_exporter": "python",
   "pygments_lexer": "ipython3",
   "version": "3.10.9"
  }
 },
 "nbformat": 4,
 "nbformat_minor": 5
}
