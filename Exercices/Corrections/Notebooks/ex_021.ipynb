{
 "cells": [
  {
   "cell_type": "code",
   "execution_count": 1,
   "id": "48a9e60f",
   "metadata": {},
   "outputs": [],
   "source": [
    "class Gateau:\n",
    "    \"\"\"Cette classe contient les ingrédients ainsi que la recette d'un gâteau\"\"\"\n",
    "\n",
    "    def __init__(self, nom: str, tps_cuisson: int, ingredients: list[str], etapes_recette: list[str], createur: str):\n",
    "        self.nom = nom\n",
    "        self.tps_cuisson = tps_cuisson\n",
    "        self.ingredients = ingredients\n",
    "        self.etapes_recette = etapes_recette\n",
    "        self.createur = createur\n",
    "\n",
    "    def afficher_ingredients(self):\n",
    "        print(\"Ingrédients de la recette: \")\n",
    "        print(\"\\n\".join(self.ingredients))\n",
    "        print()\n",
    "\n",
    "    def afficher_etapes_recette(self):\n",
    "        print(\"Étapes de la recette: \")\n",
    "        print(\"\\n\".join(self.etapes_recette))\n",
    "        print()"
   ]
  },
  {
   "cell_type": "code",
   "execution_count": 2,
   "id": "6a132155",
   "metadata": {},
   "outputs": [
    {
     "name": "stdout",
     "output_type": "stream",
     "text": [
      "Ingrédients de la recette: \n",
      "Farine\n",
      "Oeufs\n",
      "Beurre\n",
      "Sucre\n",
      "Citron\n",
      "\n",
      "Étapes de la recette: \n",
      "Réaliser la pâte\n",
      "Enfourner le fond de pâte\n",
      "Réaliser la crème au citron\n",
      "Garnisser la tarte avec la crème au citron\n",
      "\n"
     ]
    }
   ],
   "source": [
    "ingredients = [\n",
    "    \"Farine\",\n",
    "    \"Oeufs\",\n",
    "    \"Beurre\",\n",
    "    \"Sucre\",\n",
    "    \"Citron\"\n",
    "]\n",
    "etapes_recette = [\n",
    "    \"Réaliser la pâte\",\n",
    "    \"Enfourner le fond de pâte\",\n",
    "    \"Réaliser la crème au citron\",\n",
    "    \"Garnisser la tarte avec la crème au citron\"\n",
    "]\n",
    "gateau = Gateau(\"Tarte aux citrons\", 30, ingredients, etapes_recette, \"Moi\")\n",
    "\n",
    "gateau.afficher_ingredients()\n",
    "gateau.afficher_etapes_recette()"
   ]
  },
  {
   "cell_type": "code",
   "execution_count": null,
   "id": "042c4f81",
   "metadata": {},
   "outputs": [],
   "source": []
  }
 ],
 "metadata": {
  "kernelspec": {
   "display_name": "Python 3 (ipykernel)",
   "language": "python",
   "name": "python3"
  },
  "language_info": {
   "codemirror_mode": {
    "name": "ipython",
    "version": 3
   },
   "file_extension": ".py",
   "mimetype": "text/x-python",
   "name": "python",
   "nbconvert_exporter": "python",
   "pygments_lexer": "ipython3",
   "version": "3.10.9"
  }
 },
 "nbformat": 4,
 "nbformat_minor": 5
}
