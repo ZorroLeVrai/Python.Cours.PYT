{
 "cells": [
  {
   "cell_type": "code",
   "execution_count": 1,
   "id": "8dbc2472",
   "metadata": {},
   "outputs": [
    {
     "name": "stdout",
     "output_type": "stream",
     "text": [
      "Entrez la température de l'eau en °C: 37\n",
      "LIQUIDE\n"
     ]
    }
   ],
   "source": [
    "temp_celsius = float(input(\"Entrez la température de l'eau en °C: \"))\n",
    "\n",
    "if temp_celsius < 0:\n",
    "    etat_eau = \"SOLIDE\"\n",
    "elif temp_celsius <= 100:\n",
    "    etat_eau = \"LIQUIDE\"\n",
    "else:\n",
    "    etat_eau = \"GAZEUX\"\n",
    "\n",
    "print(etat_eau)"
   ]
  },
  {
   "cell_type": "code",
   "execution_count": null,
   "id": "af267bec",
   "metadata": {},
   "outputs": [],
   "source": []
  }
 ],
 "metadata": {
  "kernelspec": {
   "display_name": "Python 3 (ipykernel)",
   "language": "python",
   "name": "python3"
  },
  "language_info": {
   "codemirror_mode": {
    "name": "ipython",
    "version": 3
   },
   "file_extension": ".py",
   "mimetype": "text/x-python",
   "name": "python",
   "nbconvert_exporter": "python",
   "pygments_lexer": "ipython3",
   "version": "3.10.9"
  }
 },
 "nbformat": 4,
 "nbformat_minor": 5
}
