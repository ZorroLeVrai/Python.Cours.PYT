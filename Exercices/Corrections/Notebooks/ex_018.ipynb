{
 "cells": [
  {
   "cell_type": "code",
   "execution_count": 1,
   "id": "7c3200e8",
   "metadata": {},
   "outputs": [],
   "source": [
    "# importation des librairies\n",
    "import re\n",
    "from functools import reduce"
   ]
  },
  {
   "cell_type": "code",
   "execution_count": 2,
   "id": "26176067",
   "metadata": {},
   "outputs": [],
   "source": [
    "def lire_fichier(nom_fichier: str) -> str:\n",
    "    with open(nom_fichier, \"r\") as fichier:\n",
    "        return fichier.read()\n",
    "\n",
    "\n",
    "def get_nb_occurence_dict(text: str) -> dict[str, int]:\n",
    "    def add_word(accumulator: dict[str, int], current: str) -> dict[str, int]:\n",
    "        nb_occurence = accumulator.get(current)\n",
    "        if nb_occurence:\n",
    "            accumulator[current] = nb_occurence + 1\n",
    "        else:\n",
    "            accumulator[current] = 1\n",
    "        \n",
    "        return accumulator\n",
    "\n",
    "\n",
    "    words: list[str] = re.split(\"[ ,;.\\n]\", text)\n",
    "    empty_words_filtered = filter(lambda w: w, words)\n",
    "    small_letters_words = map(lambda w: w.lower(), empty_words_filtered)\n",
    "    return reduce(add_word, small_letters_words, dict())"
   ]
  },
  {
   "cell_type": "code",
   "execution_count": 3,
   "id": "a94ab919",
   "metadata": {},
   "outputs": [
    {
     "name": "stdout",
     "output_type": "stream",
     "text": [
      "{'in': 18, 'sed': 14, 'id': 13, 'ut': 12, 'sit': 11, 'vitae': 11, 'at': 11, 'amet': 10, 'et': 10, 'neque': 10, 'tortor': 10, 'tempor': 9, 'ac': 9, 'nunc': 9, 'feugiat': 9, 'nibh': 9, 'purus': 8, 'non': 8, 'nulla': 8, 'quis': 8, 'elit': 7, 'nisl': 7, 'pellentesque': 7, 'gravida': 7, 'quam': 7, 'risus': 7, 'faucibus': 7, 'cursus': 7, 'adipiscing': 6, 'turpis': 6, 'arcu': 6, 'elementum': 6, 'massa': 6, 'volutpat': 6, 'diam': 6, 'enim': 6, 'a': 6, 'lorem': 5, 'rhoncus': 5, 'mattis': 5, 'sollicitudin': 5, 'pretium': 5, 'lectus': 5, 'tristique': 5, 'aliquet': 5, 'suspendisse': 5, 'dictum': 5, 'blandit': 5, 'cras': 5, 'eu': 5, 'ipsum': 4, 'consectetur': 4, 'pharetra': 4, 'eget': 4, 'velit': 4, 'mauris': 4, 'leo': 4, 'morbi': 4, 'ante': 4, 'nec': 4, 'fusce': 4, 'ultrices': 4, 'iaculis': 4, 'mollis': 4, 'vel': 4, 'semper': 4, 'erat': 4, 'euismod': 4, 'aliquam': 4, 'dolor': 3, 'urna': 3, 'convallis': 3, 'posuere': 3, 'penatibus': 3, 'bibendum': 3, 'augue': 3, 'fermentum': 3, 'scelerisque': 3, 'pulvinar': 3, 'metus': 3, 'odio': 3, 'orci': 3, 'porta': 3, 'venenatis': 3, 'tellus': 3, 'donec': 3, 'ornare': 3, 'aenean': 3, 'nisi': 3, 'lacus': 3, 'est': 3, 'commodo': 3, 'molestie': 3, 'auctor': 3, 'dignissim': 3, 'viverra': 3, 'magna': 2, 'proin': 2, 'sagittis': 2, 'egestas': 2, 'malesuada': 2, 'cum': 2, 'sociis': 2, 'natoque': 2, 'curabitur': 2, 'habitant': 2, 'senectus': 2, 'dapibus': 2, 'laoreet': 2, 'tincidunt': 2, 'eleifend': 2, 'interdum': 2, 'libero': 2, 'ultricies': 2, 'eros': 2, 'facilisis': 2, 'porttitor': 2, 'praesent': 2, 'mi': 2, 'ullamcorper': 2, 'etiam': 2, 'vestibulum': 2, 'do': 1, 'eiusmod': 1, 'incididunt': 1, 'labore': 1, 'dolore': 1, 'aliqua': 1, 'maecenas': 1, 'fames': 1, 'integer': 1, 'justo': 1, 'nam': 1, 'sem': 1, 'duis': 1, 'magnis': 1, 'dis': 1, 'parturient': 1, 'montes': 1, 'nascetur': 1, 'ridiculus': 1, 'varius': 1, 'quisque': 1, 'congue': 1, 'hac': 1, 'habitasse': 1, 'platea': 1, 'condimentum': 1, 'lacinia': 1, 'consequat': 1, 'fringilla': 1, 'facilisi': 1, 'phasellus': 1}\n"
     ]
    }
   ],
   "source": [
    "nom_fichier = \"texte.txt\"\n",
    "texte = lire_fichier(nom_fichier)\n",
    "occurence_dico = get_nb_occurence_dict(texte)\n",
    "occurence_dico = dict(sorted(occurence_dico.items(), key=lambda item: item[1], reverse=True))\n",
    "print(occurence_dico)"
   ]
  },
  {
   "cell_type": "code",
   "execution_count": null,
   "id": "f3b2604d",
   "metadata": {},
   "outputs": [],
   "source": []
  }
 ],
 "metadata": {
  "kernelspec": {
   "display_name": "Python 3 (ipykernel)",
   "language": "python",
   "name": "python3"
  },
  "language_info": {
   "codemirror_mode": {
    "name": "ipython",
    "version": 3
   },
   "file_extension": ".py",
   "mimetype": "text/x-python",
   "name": "python",
   "nbconvert_exporter": "python",
   "pygments_lexer": "ipython3",
   "version": "3.10.9"
  }
 },
 "nbformat": 4,
 "nbformat_minor": 5
}
