{
 "cells": [
  {
   "cell_type": "code",
   "execution_count": 1,
   "id": "e018df22",
   "metadata": {},
   "outputs": [
    {
     "name": "stdout",
     "output_type": "stream",
     "text": [
      "Affichage d'une table de multiplication de 1 à N\n",
      "Saisir N: 5\n",
      "    1    2    3    4    5    6    7    8    9   10\n",
      "--------------------------------------------------\n",
      "    1    2    3    4    5    6    7    8    9   10\n",
      "    2    4    6    8   10   12   14   16   18   20\n",
      "    3    6    9   12   15   18   21   24   27   30\n",
      "    4    8   12   16   20   24   28   32   36   40\n",
      "    5   10   15   20   25   30   35   40   45   50\n"
     ]
    }
   ],
   "source": [
    "print(\"Affichage d'une table de multiplication de 1 à N\")\n",
    "table_size = int(input(\"Saisir N: \"))\n",
    "nb_padding_chars = 5\n",
    "\n",
    "# imprimer l'entête\n",
    "for num in range(1, 11):\n",
    "    print(f\"{num:{nb_padding_chars}}\", end='')\n",
    "\n",
    "print()\n",
    "# imprimer une ligne de séparation\n",
    "print(\"-\"*10*nb_padding_chars)\n",
    "\n",
    "# imprimer la table de multiplication\n",
    "for i in range(1, table_size + 1):\n",
    "    for j in range(1, 11):\n",
    "        print(f\"{i*j:{nb_padding_chars}}\", end='')\n",
    "    print()"
   ]
  },
  {
   "cell_type": "code",
   "execution_count": null,
   "id": "c15e3b24",
   "metadata": {},
   "outputs": [],
   "source": []
  }
 ],
 "metadata": {
  "kernelspec": {
   "display_name": "Python 3 (ipykernel)",
   "language": "python",
   "name": "python3"
  },
  "language_info": {
   "codemirror_mode": {
    "name": "ipython",
    "version": 3
   },
   "file_extension": ".py",
   "mimetype": "text/x-python",
   "name": "python",
   "nbconvert_exporter": "python",
   "pygments_lexer": "ipython3",
   "version": "3.10.9"
  }
 },
 "nbformat": 4,
 "nbformat_minor": 5
}
