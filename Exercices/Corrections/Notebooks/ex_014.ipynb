{
 "cells": [
  {
   "cell_type": "code",
   "execution_count": 1,
   "id": "514f9f43",
   "metadata": {},
   "outputs": [],
   "source": [
    "#importation des librairies\n",
    "from os.path import exists"
   ]
  },
  {
   "cell_type": "code",
   "execution_count": 3,
   "id": "1f766cab",
   "metadata": {},
   "outputs": [],
   "source": [
    "nom_fichier = \"secret.txt\"\n",
    "\n",
    "def lire_secret():\n",
    "    if not exists(nom_fichier):\n",
    "        return \"\"\n",
    "    \n",
    "    with open(nom_fichier, \"r\") as fichier:\n",
    "        return fichier.read()\n",
    "\n",
    "\n",
    "def ecriture_secret(secret):\n",
    "    with open(nom_fichier, \"w\") as fichier:\n",
    "        fichier.write(secret)"
   ]
  },
  {
   "cell_type": "code",
   "execution_count": 4,
   "id": "197de727",
   "metadata": {},
   "outputs": [
    {
     "name": "stdout",
     "output_type": "stream",
     "text": [
      "Choisir une action\n",
      "        1: Voir le secret\n",
      "        2: Modifier le secret\n",
      "        3: Quitter le programme\n",
      "        1\n",
      "Il n'y a pas de secret\n",
      "Choisir une action\n",
      "        1: Voir le secret\n",
      "        2: Modifier le secret\n",
      "        3: Quitter le programme\n",
      "        2\n",
      "Saisir le secret: Toto\n",
      "Choisir une action\n",
      "        1: Voir le secret\n",
      "        2: Modifier le secret\n",
      "        3: Quitter le programme\n",
      "        1\n",
      "Le secret est Toto\n",
      "Choisir une action\n",
      "        1: Voir le secret\n",
      "        2: Modifier le secret\n",
      "        3: Quitter le programme\n",
      "        3\n",
      "Au revoir\n",
      "Fin du programme\n"
     ]
    }
   ],
   "source": [
    "secret = lire_secret()\n",
    "\n",
    "while True:\n",
    "    option = input(\"\"\"Choisir une action\n",
    "        1: Voir le secret\n",
    "        2: Modifier le secret\n",
    "        3: Quitter le programme\n",
    "        \"\"\")\n",
    "\n",
    "    match option:\n",
    "        case \"1\":\n",
    "            if secret:\n",
    "                print(f\"Le secret est {secret}\")\n",
    "            else:\n",
    "                print(f\"Il n'y a pas de secret\")\n",
    "        case \"2\":\n",
    "            secret = input(\"Saisir le secret: \")\n",
    "        case \"3\":\n",
    "            ecriture_secret(secret)\n",
    "            print (\"Au revoir\")\n",
    "            break\n",
    "\n",
    "print(\"Fin du programme\")\n"
   ]
  },
  {
   "cell_type": "code",
   "execution_count": null,
   "id": "5a97db18",
   "metadata": {},
   "outputs": [],
   "source": []
  }
 ],
 "metadata": {
  "kernelspec": {
   "display_name": "Python 3 (ipykernel)",
   "language": "python",
   "name": "python3"
  },
  "language_info": {
   "codemirror_mode": {
    "name": "ipython",
    "version": 3
   },
   "file_extension": ".py",
   "mimetype": "text/x-python",
   "name": "python",
   "nbconvert_exporter": "python",
   "pygments_lexer": "ipython3",
   "version": "3.10.9"
  }
 },
 "nbformat": 4,
 "nbformat_minor": 5
}
