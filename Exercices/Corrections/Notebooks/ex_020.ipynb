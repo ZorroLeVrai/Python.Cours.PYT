{
 "cells": [
  {
   "cell_type": "code",
   "execution_count": 1,
   "id": "d17ae379",
   "metadata": {},
   "outputs": [],
   "source": [
    "from collections.abc import Callable"
   ]
  },
  {
   "cell_type": "code",
   "execution_count": 2,
   "id": "be7674e8",
   "metadata": {},
   "outputs": [],
   "source": [
    "def decorer_fonction(func: Callable[[], None]) -> Callable[[], None]:\n",
    "    def fonction_locale() -> None:\n",
    "        print(\"Avant la décoration\")\n",
    "        func()\n",
    "        print(\"Après la décoration\")\n",
    "\n",
    "    return fonction_locale\n",
    "\n",
    "@decorer_fonction\n",
    "def fonction_base_decoree() -> None:\n",
    "    fonction_base()\n",
    "\n",
    "def fonction_base() -> None:\n",
    "    print(\"Je suis la fonction de base\")\n",
    "\n",
    "# def simuler_decorateur() -> None:\n",
    "#     decorer_fonction(fonction_base)()"
   ]
  },
  {
   "cell_type": "code",
   "execution_count": 3,
   "id": "0b8e992e",
   "metadata": {},
   "outputs": [
    {
     "name": "stdout",
     "output_type": "stream",
     "text": [
      "Avant la décoration\n",
      "Je suis la fonction de base\n",
      "Après la décoration\n"
     ]
    }
   ],
   "source": [
    "fonction_base_decoree()"
   ]
  },
  {
   "cell_type": "code",
   "execution_count": null,
   "id": "5f2d2a68",
   "metadata": {},
   "outputs": [],
   "source": []
  }
 ],
 "metadata": {
  "kernelspec": {
   "display_name": "Python 3 (ipykernel)",
   "language": "python",
   "name": "python3"
  },
  "language_info": {
   "codemirror_mode": {
    "name": "ipython",
    "version": 3
   },
   "file_extension": ".py",
   "mimetype": "text/x-python",
   "name": "python",
   "nbconvert_exporter": "python",
   "pygments_lexer": "ipython3",
   "version": "3.10.9"
  }
 },
 "nbformat": 4,
 "nbformat_minor": 5
}
