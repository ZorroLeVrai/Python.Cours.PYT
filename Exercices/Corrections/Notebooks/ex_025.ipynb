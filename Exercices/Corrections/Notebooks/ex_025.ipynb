{
 "cells": [
  {
   "cell_type": "code",
   "execution_count": 2,
   "id": "96c1edbc",
   "metadata": {},
   "outputs": [],
   "source": [
    "class Personne:\n",
    "    def __init__(self, nom: str, prenom: str, numero_tel: str, email: str):\n",
    "        self.nom = nom\n",
    "        self.prenom = prenom\n",
    "        self.numero_tel = numero_tel\n",
    "        self.email = email\n",
    "\n",
    "    def __str__(self):\n",
    "        return f\"\"\"\n",
    "Nom: {self.nom}\n",
    "Prénom: {self.prenom}\n",
    "Numéro de Téléphone: {self.numero_tel}\n",
    "Email: {self.email}\"\"\"\n",
    "\n",
    "\n",
    "class Travailleur(Personne):\n",
    "    def __init__(self,\n",
    "                 nom: str,\n",
    "                 prenom: str,\n",
    "                 numero_tel: str,\n",
    "                 email: str,\n",
    "                 nom_entreprise: str,\n",
    "                 adresse_entreprise: str,\n",
    "                 telephone_pro: str):\n",
    "        super().__init__(nom, prenom, numero_tel, email)\n",
    "        self.nom_entreprise = nom_entreprise\n",
    "        self.adresse_entreprise = adresse_entreprise\n",
    "        self.telephone_pro = telephone_pro\n",
    "\n",
    "    def __str__(self):\n",
    "        return f\"\"\"\n",
    "{super().__str__()}\n",
    "Nom entreprise: {self.nom_entreprise}\n",
    "Adresse entreprise: {self.adresse_entreprise}\n",
    "Téléphone pro: {self.telephone_pro}\"\"\"\n",
    "\n",
    "\n",
    "class Scientifique(Travailleur):\n",
    "    def __init__(self,\n",
    "                 nom: str,\n",
    "                 prenom: str,\n",
    "                 numero_tel: str,\n",
    "                 email: str,\n",
    "                 nom_entreprise: str,\n",
    "                 adresse_entreprise: str,\n",
    "                 telephone_pro: str,\n",
    "                 disciplines: list[str],\n",
    "                 type_scientifique: str):\n",
    "        super().__init__(nom, prenom, numero_tel, email, nom_entreprise, adresse_entreprise, telephone_pro)\n",
    "        self.disciplines = disciplines\n",
    "        self.type_scientifique = type_scientifique\n",
    "\n",
    "    def __str__(self):\n",
    "        return f\"\"\"\n",
    "{super().__str__()}\n",
    "Disciplines: {self.disciplines}\n",
    "Type du scientifique: {self.type_scientifique}\"\"\""
   ]
  },
  {
   "cell_type": "code",
   "execution_count": 3,
   "id": "17fabcfe",
   "metadata": {},
   "outputs": [
    {
     "name": "stdout",
     "output_type": "stream",
     "text": [
      "\n",
      "Nom: Doe\n",
      "Prénom: John\n",
      "Numéro de Téléphone: 1234\n",
      "Email: john.doe@gmail.com\n",
      "\n",
      "\n",
      "Nom: Doe\n",
      "Prénom: Jane\n",
      "Numéro de Téléphone: 8888\n",
      "Email: jane.doe@gmail.com\n",
      "Nom entreprise: Google\n",
      "Adresse entreprise: Paris\n",
      "Téléphone pro: 123456\n",
      "\n",
      "\n",
      "\n",
      "Nom: Doe\n",
      "Prénom: Jane\n",
      "Numéro de Téléphone: 8888\n",
      "Email: jane.doe@gmail.com\n",
      "Nom entreprise: Google\n",
      "Adresse entreprise: Paris\n",
      "Téléphone pro: 123456\n",
      "Disciplines: ['Physique', 'Chimie']\n",
      "Type du scientifique: Théorique\n"
     ]
    }
   ],
   "source": [
    "personne = Personne(\"Doe\", \"John\", \"1234\", \"john.doe@gmail.com\")\n",
    "print(personne)\n",
    "\n",
    "travailleur = Travailleur(\"Doe\", \"Jane\", \"8888\", \"jane.doe@gmail.com\", \"Google\", \"Paris\", \"123456\")\n",
    "print(travailleur)\n",
    "\n",
    "scientifique = Scientifique(\"Doe\", \"Jane\", \"8888\", \"jane.doe@gmail.com\", \"Google\", \"Paris\", \"123456\", [\"Physique\", \"Chimie\"], \"Théorique\")\n",
    "print(scientifique)"
   ]
  },
  {
   "cell_type": "code",
   "execution_count": null,
   "id": "302babbd",
   "metadata": {},
   "outputs": [],
   "source": []
  }
 ],
 "metadata": {
  "kernelspec": {
   "display_name": "Python 3 (ipykernel)",
   "language": "python",
   "name": "python3"
  },
  "language_info": {
   "codemirror_mode": {
    "name": "ipython",
    "version": 3
   },
   "file_extension": ".py",
   "mimetype": "text/x-python",
   "name": "python",
   "nbconvert_exporter": "python",
   "pygments_lexer": "ipython3",
   "version": "3.10.9"
  }
 },
 "nbformat": 4,
 "nbformat_minor": 5
}
