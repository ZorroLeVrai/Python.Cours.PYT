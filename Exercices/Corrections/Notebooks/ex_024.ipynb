{
 "cells": [
  {
   "cell_type": "code",
   "execution_count": 1,
   "id": "8a604509",
   "metadata": {},
   "outputs": [],
   "source": [
    "from abc import ABC, abstractmethod\n",
    "from functools import reduce\n",
    "import math"
   ]
  },
  {
   "cell_type": "code",
   "execution_count": 3,
   "id": "9d656aed",
   "metadata": {},
   "outputs": [],
   "source": [
    "class Shape(ABC):\n",
    "    @abstractmethod\n",
    "    def perimeter(self) -> float:\n",
    "        pass\n",
    "\n",
    "    @abstractmethod\n",
    "    def surface(self) -> float:\n",
    "        pass\n",
    "\n",
    "\n",
    "class Circle(Shape):\n",
    "\n",
    "    def __init__(self, radius: float):\n",
    "        self.radius = radius\n",
    "\n",
    "    def perimeter(self) -> float:\n",
    "        return 2 * math.pi * self.radius\n",
    "    \n",
    "    def surface(self) -> float:\n",
    "        return math.pi * self.radius * self.radius\n",
    "    \n",
    "    def __str__(self) -> str:\n",
    "        return f\"Circle(radius={self.radius})\"\n",
    "\n",
    "\n",
    "class Rectangle(Shape):\n",
    "\n",
    "    def __init__(self, length: float, width: float):\n",
    "        self.length = length\n",
    "        self.width = width\n",
    "\n",
    "    def perimeter(self) -> float:\n",
    "        return 2 * (self.length + self.width)\n",
    "    \n",
    "    def surface(self) -> float:\n",
    "        return self.length * self.width\n",
    "    \n",
    "    def __str__(self) -> str:\n",
    "        return f\"Rectangle(length={self.length}, width={self.width})\"\n",
    "\n",
    "\n",
    "class Square(Rectangle):\n",
    "\n",
    "    def __init__(self, side: float):\n",
    "        super().__init__(side, side)\n",
    "\n",
    "    def __str__(self) -> str:\n",
    "        return f\"Square(side={self.length})\"\n",
    "\n",
    "\n",
    "class Container:\n",
    "\n",
    "    def __init__(self):\n",
    "        self.shapes: list[Shape] = []\n",
    "\n",
    "    def display_shapes(self) -> None:\n",
    "        print(\"Liste de formes\")\n",
    "        for index, item in enumerate(self.shapes):\n",
    "            print(f\"{index} -> {item}\")\n",
    "\n",
    "    def add_shape(self, shape: Shape) -> None:\n",
    "        self.shapes.append(shape)\n",
    "\n",
    "    def remove_shape(self, index: int) -> None:\n",
    "        del self[index]\n",
    "\n",
    "    def perimeter(self) -> float:\n",
    "        return reduce(lambda accumulator, current: accumulator + current.perimeter(), self.shapes, 0.0)\n",
    "    \n",
    "    def surface(self) -> float:\n",
    "        return reduce(lambda accumulator, current: accumulator + current.surface(), self.shapes, 0.0)"
   ]
  },
  {
   "cell_type": "code",
   "execution_count": 4,
   "id": "5e9c3558",
   "metadata": {},
   "outputs": [
    {
     "name": "stdout",
     "output_type": "stream",
     "text": [
      "Liste de formes\n",
      "0 -> Square(side=10)\n",
      "1 -> Rectangle(length=20, width=10)\n",
      "2 -> Circle(radius=2)\n",
      "Perimeter 112.56637061435917\n",
      "Surface 312.5663706143592\n"
     ]
    }
   ],
   "source": [
    "conteneur = Container()\n",
    "conteneur.add_shape(Square(10))\n",
    "conteneur.add_shape(Rectangle(20,10))\n",
    "conteneur.add_shape(Circle(2))\n",
    "\n",
    "conteneur.display_shapes()\n",
    "print(\"Perimeter\", conteneur.perimeter())\n",
    "print(\"Surface\", conteneur.surface())"
   ]
  },
  {
   "cell_type": "code",
   "execution_count": null,
   "id": "95dc5cb8",
   "metadata": {},
   "outputs": [],
   "source": []
  }
 ],
 "metadata": {
  "kernelspec": {
   "display_name": "Python 3 (ipykernel)",
   "language": "python",
   "name": "python3"
  },
  "language_info": {
   "codemirror_mode": {
    "name": "ipython",
    "version": 3
   },
   "file_extension": ".py",
   "mimetype": "text/x-python",
   "name": "python",
   "nbconvert_exporter": "python",
   "pygments_lexer": "ipython3",
   "version": "3.10.9"
  }
 },
 "nbformat": 4,
 "nbformat_minor": 5
}
