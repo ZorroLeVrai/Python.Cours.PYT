{
 "cells": [
  {
   "cell_type": "code",
   "execution_count": 1,
   "id": "13dee611",
   "metadata": {},
   "outputs": [
    {
     "name": "stdout",
     "output_type": "stream",
     "text": [
      "Saisir la hauteur du triangle: 5\n",
      "    *    \n",
      "   ***   \n",
      "  *****  \n",
      " ******* \n",
      "*********\n"
     ]
    }
   ],
   "source": [
    "hauteur = int(input(\"Saisir la hauteur du triangle: \"))\n",
    "for line_index in range(hauteur):\n",
    "    nb_stars = line_index * 2 + 1\n",
    "    nb_spaces = hauteur - line_index - 1\n",
    "    stars = \"*\"*nb_stars\n",
    "    spaces = \" \"*nb_spaces\n",
    "    print(f\"{spaces}{stars}{spaces}\")"
   ]
  },
  {
   "cell_type": "code",
   "execution_count": 2,
   "id": "73a65038",
   "metadata": {},
   "outputs": [
    {
     "name": "stdout",
     "output_type": "stream",
     "text": [
      "Saisir la hauteur du triangle: 5\n",
      "     *     \n",
      "    ***    \n",
      "   *****   \n",
      "  *******  \n",
      " ********* \n"
     ]
    }
   ],
   "source": [
    "hauteur = int(input(\"Saisir la hauteur du triangle: \"))\n",
    "nb_padding = 2*hauteur + 1\n",
    "for i in range(0, hauteur):\n",
    "    str = \"*\"*(2*i+1)\n",
    "    print(f\"{str:^{nb_padding}}\")\n",
    "    #print(str.center(nb_padding))"
   ]
  },
  {
   "cell_type": "code",
   "execution_count": null,
   "id": "2e8bf24c",
   "metadata": {},
   "outputs": [],
   "source": []
  }
 ],
 "metadata": {
  "kernelspec": {
   "display_name": "Python 3 (ipykernel)",
   "language": "python",
   "name": "python3"
  },
  "language_info": {
   "codemirror_mode": {
    "name": "ipython",
    "version": 3
   },
   "file_extension": ".py",
   "mimetype": "text/x-python",
   "name": "python",
   "nbconvert_exporter": "python",
   "pygments_lexer": "ipython3",
   "version": "3.10.9"
  }
 },
 "nbformat": 4,
 "nbformat_minor": 5
}
