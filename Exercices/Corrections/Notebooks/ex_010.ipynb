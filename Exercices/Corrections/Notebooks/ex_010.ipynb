{
 "cells": [
  {
   "cell_type": "code",
   "execution_count": 2,
   "id": "8bab3dde",
   "metadata": {},
   "outputs": [],
   "source": [
    "def moyenne(nombre1: float, nombre2: float) -> float:\n",
    "    return (nombre1 + nombre2) / 2    "
   ]
  },
  {
   "cell_type": "code",
   "execution_count": 3,
   "id": "a7ff0bf7",
   "metadata": {},
   "outputs": [
    {
     "name": "stdout",
     "output_type": "stream",
     "text": [
      "Calcul de la moyenne\n",
      "Entrez le premier nombre: 10\n",
      "Entrez le deuxieme nombre: 16\n",
      "La moyenne est de 13.0\n"
     ]
    }
   ],
   "source": [
    "print(\"Calcul de la moyenne\")\n",
    "nombre1 = float(input(\"Entrez le premier nombre: \"))\n",
    "nombre2 = float(input(\"Entrez le deuxieme nombre: \"))\n",
    "resultat = moyenne(nombre1, nombre2)\n",
    "print(f\"La moyenne est de {resultat}\")"
   ]
  },
  {
   "cell_type": "code",
   "execution_count": null,
   "id": "7af87eea",
   "metadata": {},
   "outputs": [],
   "source": []
  }
 ],
 "metadata": {
  "kernelspec": {
   "display_name": "Python 3 (ipykernel)",
   "language": "python",
   "name": "python3"
  },
  "language_info": {
   "codemirror_mode": {
    "name": "ipython",
    "version": 3
   },
   "file_extension": ".py",
   "mimetype": "text/x-python",
   "name": "python",
   "nbconvert_exporter": "python",
   "pygments_lexer": "ipython3",
   "version": "3.10.9"
  }
 },
 "nbformat": 4,
 "nbformat_minor": 5
}
