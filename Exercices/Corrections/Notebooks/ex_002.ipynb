{
 "cells": [
  {
   "cell_type": "code",
   "execution_count": 1,
   "id": "42fda9da",
   "metadata": {},
   "outputs": [
    {
     "name": "stdout",
     "output_type": "stream",
     "text": [
      "Entrez le rayon (en cm): 1\n",
      "Entrez la hauteur (en cm): 1\n",
      "Le volume est de 1.05 cm³\n"
     ]
    }
   ],
   "source": [
    "import math\n",
    "\n",
    "# Les entrées de l'utilisateur / utilisatrice\n",
    "rayon_cm = float(input(\"Entrez le rayon (en cm): \"))\n",
    "hauteur_cm = float(input(\"Entrez la hauteur (en cm): \"))\n",
    "\n",
    "#Les calculs\n",
    "base_cm2 = math.pi*rayon_cm**2\n",
    "volume_cm3 = hauteur_cm*base_cm2 / 3\n",
    "\n",
    "#Affchage du résultat\n",
    "print(f\"Le volume est de {round(volume_cm3, 2)} cm\\u00b3\")\n"
   ]
  },
  {
   "cell_type": "code",
   "execution_count": null,
   "id": "88e176ff",
   "metadata": {},
   "outputs": [],
   "source": []
  }
 ],
 "metadata": {
  "kernelspec": {
   "display_name": "Python 3 (ipykernel)",
   "language": "python",
   "name": "python3"
  },
  "language_info": {
   "codemirror_mode": {
    "name": "ipython",
    "version": 3
   },
   "file_extension": ".py",
   "mimetype": "text/x-python",
   "name": "python",
   "nbconvert_exporter": "python",
   "pygments_lexer": "ipython3",
   "version": "3.10.9"
  }
 },
 "nbformat": 4,
 "nbformat_minor": 5
}
