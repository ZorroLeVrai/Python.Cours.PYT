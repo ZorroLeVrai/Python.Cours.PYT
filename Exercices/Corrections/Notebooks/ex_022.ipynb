{
 "cells": [
  {
   "cell_type": "code",
   "execution_count": 1,
   "id": "685e2ad7",
   "metadata": {},
   "outputs": [],
   "source": [
    "taux_agios = 0.05\n",
    "\n",
    "class CompteBancaire:\n",
    "    \"\"\"Cette classe permet de gérer un compte bancaire\"\"\"\n",
    "\n",
    "    def __init__(self, numero_compte: str, nom: str, solde: float):\n",
    "        self.numero_compte = numero_compte\n",
    "        self.nom = nom\n",
    "        self.solde = solde\n",
    "\n",
    "    def versement(self, montant: float) -> None:\n",
    "        self.solde += montant\n",
    "\n",
    "    def retrait(self, montant: float) -> None:\n",
    "        self.solde -= montant\n",
    "\n",
    "    def agios(self) -> None:\n",
    "        \"\"\"Permet d'appliquer des agios si le solde est négatif\"\"\"\n",
    "        if self.solde < 0:\n",
    "            self.solde *= (1 + taux_agios)\n",
    "\n",
    "    def afficher(self) -> None:\n",
    "        \"\"\"Afficher le détail du compte\"\"\"\n",
    "        print(\"Afficher le détail du compte:\")\n",
    "        print(f\"Numéro de compte: {self.numero_compte}\")\n",
    "        print(f\"Nom: {self.nom}\")\n",
    "        print(f\"Solde: {self.solde}\")\n",
    "        print()"
   ]
  },
  {
   "cell_type": "code",
   "execution_count": 2,
   "id": "01c764f9",
   "metadata": {},
   "outputs": [
    {
     "name": "stdout",
     "output_type": "stream",
     "text": [
      "Afficher le détail du compte:\n",
      "Numéro de compte: 123\n",
      "Nom: John\n",
      "Solde: 150\n",
      "\n",
      "Afficher le détail du compte:\n",
      "Numéro de compte: 123\n",
      "Nom: John\n",
      "Solde: -52.5\n",
      "\n"
     ]
    }
   ],
   "source": [
    "compte = CompteBancaire(123, \"John\", 100)\n",
    "compte.versement(50)\n",
    "compte.afficher()\n",
    "compte.retrait(200)\n",
    "compte.agios()\n",
    "compte.afficher()"
   ]
  },
  {
   "cell_type": "code",
   "execution_count": null,
   "id": "0f22ffc8",
   "metadata": {},
   "outputs": [],
   "source": []
  }
 ],
 "metadata": {
  "kernelspec": {
   "display_name": "Python 3 (ipykernel)",
   "language": "python",
   "name": "python3"
  },
  "language_info": {
   "codemirror_mode": {
    "name": "ipython",
    "version": 3
   },
   "file_extension": ".py",
   "mimetype": "text/x-python",
   "name": "python",
   "nbconvert_exporter": "python",
   "pygments_lexer": "ipython3",
   "version": "3.10.9"
  }
 },
 "nbformat": 4,
 "nbformat_minor": 5
}
