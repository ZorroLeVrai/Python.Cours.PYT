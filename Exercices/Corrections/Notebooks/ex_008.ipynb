{
 "cells": [
  {
   "cell_type": "code",
   "execution_count": 1,
   "id": "12fddf95",
   "metadata": {},
   "outputs": [
    {
     "name": "stdout",
     "output_type": "stream",
     "text": [
      "Nombre de plis nécessaires: 22\n"
     ]
    }
   ],
   "source": [
    "epaisseur_papier_mm = 0.1\n",
    "epaisseur_cible_mm = 1000 * 400\n",
    "\n",
    "nombre_de_plis = 0\n",
    "epaisseur_actuelle = epaisseur_papier_mm\n",
    "while epaisseur_actuelle <= epaisseur_cible_mm:\n",
    "    epaisseur_actuelle *= 2\n",
    "    nombre_de_plis += 1\n",
    "\n",
    "print(f\"Nombre de plis nécessaires: {nombre_de_plis}\")"
   ]
  },
  {
   "cell_type": "code",
   "execution_count": null,
   "id": "d1215ac0",
   "metadata": {},
   "outputs": [],
   "source": []
  }
 ],
 "metadata": {
  "kernelspec": {
   "display_name": "Python 3 (ipykernel)",
   "language": "python",
   "name": "python3"
  },
  "language_info": {
   "codemirror_mode": {
    "name": "ipython",
    "version": 3
   },
   "file_extension": ".py",
   "mimetype": "text/x-python",
   "name": "python",
   "nbconvert_exporter": "python",
   "pygments_lexer": "ipython3",
   "version": "3.10.9"
  }
 },
 "nbformat": 4,
 "nbformat_minor": 5
}
