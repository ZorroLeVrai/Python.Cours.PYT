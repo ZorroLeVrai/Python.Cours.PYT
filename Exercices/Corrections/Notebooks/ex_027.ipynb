{
 "cells": [
  {
   "cell_type": "code",
   "execution_count": 1,
   "id": "92036d12",
   "metadata": {},
   "outputs": [],
   "source": [
    "import re"
   ]
  },
  {
   "cell_type": "code",
   "execution_count": 2,
   "id": "9ce98141",
   "metadata": {},
   "outputs": [],
   "source": [
    "class LoginBadFormatException(Exception):\n",
    "    def __init__(self, message: str):\n",
    "        super().__init__(message)\n",
    "\n",
    "\n",
    "class PasswordBadFormatException(Exception):\n",
    "    def __init__(self, message: str):\n",
    "        super().__init__(message)\n",
    "\n",
    "\n",
    "def saisir_lettre_minuscules() -> str:\n",
    "    text = input(\"Veuillez entrer un login SVP (celui-ci ne doit posséder que des lettres minuscules): \")\n",
    "    min_ascii_code = ord('a')\n",
    "    max_ascii_code = ord('z')\n",
    "    condition = len(text) > 0 and all(map(lambda l: min_ascii_code <= ord(l) <= max_ascii_code, text))\n",
    "    if not condition:\n",
    "        raise LoginBadFormatException(\"Le login ne doit contenir que des minuscules et ne doit pas être vide\")\n",
    "    return text\n",
    "\n",
    "def saisir_lettre_minuscules2():\n",
    "    text = input(\"Veuillez entrer un login SVP (celui-ci ne doit posséder que des lettres minuscules): \")\n",
    "    condition = bool(re.match(\"^[a-z]+$\", text))\n",
    "    if not condition:\n",
    "        raise LoginBadFormatException(\"Le login ne doit contenir que des minuscules et ne doit pas être vide\")\n",
    "    return text\n",
    "\n",
    "def saisir_chiffres():\n",
    "    text = input(\"Veuillez entrer un mot de passe SVP (celui-ci ne devra comporter que des chiffres): \")\n",
    "    if not text.isdigit():\n",
    "        raise PasswordBadFormatException(\"Le mot de passe ne doit contenir que des chiffres\")\n",
    "    return text"
   ]
  },
  {
   "cell_type": "code",
   "execution_count": 3,
   "id": "b0e918ca",
   "metadata": {},
   "outputs": [
    {
     "name": "stdout",
     "output_type": "stream",
     "text": [
      "Veuillez entrer un login SVP (celui-ci ne doit posséder que des lettres minuscules): toto\n",
      "Veuillez entrer un mot de passe SVP (celui-ci ne devra comporter que des chiffres): 4555\n",
      "Saisie correcte\n",
      "Login: toto\n",
      "Password: 4555\n"
     ]
    }
   ],
   "source": [
    "login = \"\"\n",
    "password = \"\"\n",
    "while True:\n",
    "    try:\n",
    "        login = saisir_lettre_minuscules2()\n",
    "        password = saisir_chiffres()\n",
    "    except Exception as ex:\n",
    "        print(f\"Exception: {ex}\")\n",
    "        print()\n",
    "    else:\n",
    "        print(\"Saisie correcte\")\n",
    "        print(f\"Login: {login}\")\n",
    "        print(f\"Password: {password}\")\n",
    "        break"
   ]
  },
  {
   "cell_type": "code",
   "execution_count": null,
   "id": "f2197424",
   "metadata": {},
   "outputs": [],
   "source": []
  }
 ],
 "metadata": {
  "kernelspec": {
   "display_name": "Python 3 (ipykernel)",
   "language": "python",
   "name": "python3"
  },
  "language_info": {
   "codemirror_mode": {
    "name": "ipython",
    "version": 3
   },
   "file_extension": ".py",
   "mimetype": "text/x-python",
   "name": "python",
   "nbconvert_exporter": "python",
   "pygments_lexer": "ipython3",
   "version": "3.10.9"
  }
 },
 "nbformat": 4,
 "nbformat_minor": 5
}
