{
 "cells": [
  {
   "cell_type": "code",
   "execution_count": 1,
   "id": "4e3c54a4",
   "metadata": {},
   "outputs": [],
   "source": [
    "#importation des libraries\n",
    "import os.path\n",
    "import csv"
   ]
  },
  {
   "cell_type": "code",
   "execution_count": 2,
   "id": "7ef8c798",
   "metadata": {},
   "outputs": [],
   "source": [
    "nom_fichier = \"produit.csv\"\n",
    "delimiteur_csv = \";\"\n",
    "nom_titre = \"Nom du produit\"\n",
    "prix_titre = \"Prix\"\n",
    "stock_titre = \"Quantité du stock\"\n",
    "\n",
    "\n",
    "def ajouter_produit(nom: str, prix: float, stock: int):\n",
    "    \"\"\"Commentaire Python\"\"\"\n",
    "    fichier_existe = os.path.exists(nom_fichier)\n",
    "\n",
    "    with open(nom_fichier, \"at\", newline=\"\", encoding=\"latin1\") as fichier:\n",
    "        csv_writer = csv.writer(fichier, delimiter=delimiteur_csv)\n",
    "        if not fichier_existe:\n",
    "            csv_writer.writerow([nom_titre, prix_titre, stock_titre])\n",
    "        csv_writer.writerow([nom, prix, stock])"
   ]
  },
  {
   "cell_type": "code",
   "execution_count": 3,
   "id": "ab3bebec",
   "metadata": {},
   "outputs": [
    {
     "name": "stdout",
     "output_type": "stream",
     "text": [
      "Entrez le nom du produit: Biscuits\n",
      "Entrez le prix du produit: 2.3\n",
      "Entrer le nombre de produits: 2\n"
     ]
    }
   ],
   "source": [
    "nom = input(\"Entrez le nom du produit: \")\n",
    "prix = float(input(\"Entrez le prix du produit: \"))\n",
    "stock = int(input(\"Entrer le nombre de produits: \"))\n",
    "\n",
    "ajouter_produit(nom, prix, stock)"
   ]
  },
  {
   "cell_type": "code",
   "execution_count": null,
   "id": "2249ef53",
   "metadata": {},
   "outputs": [],
   "source": []
  }
 ],
 "metadata": {
  "kernelspec": {
   "display_name": "Python 3 (ipykernel)",
   "language": "python",
   "name": "python3"
  },
  "language_info": {
   "codemirror_mode": {
    "name": "ipython",
    "version": 3
   },
   "file_extension": ".py",
   "mimetype": "text/x-python",
   "name": "python",
   "nbconvert_exporter": "python",
   "pygments_lexer": "ipython3",
   "version": "3.10.9"
  }
 },
 "nbformat": 4,
 "nbformat_minor": 5
}
