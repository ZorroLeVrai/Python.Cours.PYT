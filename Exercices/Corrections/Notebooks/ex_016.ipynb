{
 "cells": [
  {
   "cell_type": "code",
   "execution_count": 1,
   "id": "ec0f763e",
   "metadata": {},
   "outputs": [],
   "source": [
    "message_saisie = \"Veuillez entrer une note entre 0 et 20 compris (une note négative stoppera la saisie): \"\n",
    "\n",
    "def saisir_une_note() -> float:\n",
    "    while True:\n",
    "        note_str = input(message_saisie)\n",
    "        try:\n",
    "            note = float(note_str)\n",
    "            if note > 20:\n",
    "                print(\"Veuillez saisir un nombre inférieur ou égal à 20\")\n",
    "            else:\n",
    "                return note\n",
    "        except ValueError:\n",
    "            print(\"Veuillez saisir un nombre entier ou un nombre décimal\")\n",
    "\n",
    "\n",
    "def saisir_notes() -> tuple[float, float, float]:\n",
    "    note_minimale: float = 20\n",
    "    note_maximale: float = 0\n",
    "    somme_notes: float = 0\n",
    "    nb_notes: int = 0\n",
    "\n",
    "    while True:\n",
    "        note = saisir_une_note()\n",
    "        if note < 0:\n",
    "            break\n",
    "\n",
    "        if note < note_minimale:\n",
    "            note_minimale = note\n",
    "\n",
    "        if note > note_maximale:\n",
    "            note_maximale = note\n",
    "        \n",
    "        somme_notes += note\n",
    "        nb_notes += 1\n",
    "\n",
    "    moyenne = somme_notes / nb_notes if nb_notes > 0 else 0\n",
    "    return (note_minimale, note_maximale, moyenne)"
   ]
  },
  {
   "cell_type": "code",
   "execution_count": 2,
   "id": "f87e59fb",
   "metadata": {},
   "outputs": [
    {
     "name": "stdout",
     "output_type": "stream",
     "text": [
      "Veuillez entrer une note entre 0 et 20 compris (une note négative stoppera la saisie): 10\n",
      "Veuillez entrer une note entre 0 et 20 compris (une note négative stoppera la saisie): 12\n",
      "Veuillez entrer une note entre 0 et 20 compris (une note négative stoppera la saisie): 14\n",
      "Veuillez entrer une note entre 0 et 20 compris (une note négative stoppera la saisie): -1\n",
      "La note minimale est de 10.0 / 20\n",
      "La note maximale est de 14.0 / 20\n",
      "La moyenne est de 12.0 / 20\n"
     ]
    }
   ],
   "source": [
    "(note_min, note_max, moyenne) = saisir_notes()\n",
    "print(f\"La note minimale est de {note_min} / 20\")\n",
    "print(f\"La note maximale est de {note_max} / 20\")\n",
    "print(f\"La moyenne est de {moyenne} / 20\")"
   ]
  },
  {
   "cell_type": "code",
   "execution_count": null,
   "id": "3ab8adf4",
   "metadata": {},
   "outputs": [],
   "source": []
  }
 ],
 "metadata": {
  "kernelspec": {
   "display_name": "Python 3 (ipykernel)",
   "language": "python",
   "name": "python3"
  },
  "language_info": {
   "codemirror_mode": {
    "name": "ipython",
    "version": 3
   },
   "file_extension": ".py",
   "mimetype": "text/x-python",
   "name": "python",
   "nbconvert_exporter": "python",
   "pygments_lexer": "ipython3",
   "version": "3.10.9"
  }
 },
 "nbformat": 4,
 "nbformat_minor": 5
}
