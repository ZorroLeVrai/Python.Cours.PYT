{
 "cells": [
  {
   "cell_type": "code",
   "execution_count": 2,
   "id": "e55d5aab",
   "metadata": {},
   "outputs": [],
   "source": [
    "from typing import Union"
   ]
  },
  {
   "cell_type": "code",
   "execution_count": 3,
   "id": "9a520c26",
   "metadata": {},
   "outputs": [],
   "source": [
    "class IntervalError(Exception):\n",
    "    def __init__(self, message: str) -> None:\n",
    "        super().__init__(message)\n",
    "\n",
    "\n",
    "class Intervalle:\n",
    "    def __init__(self, borne_inferieure: float, borne_superieure: float):\n",
    "        format_valide = verifier_bon_format(borne_inferieure) \\\n",
    "            and verifier_bon_format(borne_superieure) \\\n",
    "            and borne_inferieure <= borne_superieure\n",
    "        if not format_valide:\n",
    "            raise IntervalError(\"Erreur: Bornes Invalides!\")\n",
    "        self.__inf = borne_inferieure\n",
    "        self.__sup = borne_superieure\n",
    "\n",
    "    def modif_borne_sup(self, val: float):\n",
    "        format_valide = verifier_bon_format(val) \\\n",
    "            and val >= self.__inf\n",
    "        if not format_valide:\n",
    "            raise IntervalError(\"Erreur: Bornes Invalides!\")\n",
    "        self.__sup = val\n",
    "\n",
    "    def modif_borne_inf(self, val: float):\n",
    "        format_valide = verifier_bon_format(val) \\\n",
    "            and val <= self.__sup\n",
    "        if not format_valide:\n",
    "            raise IntervalError(\"Erreur: Bornes Invalides!\")\n",
    "        self.__inf = val\n",
    "\n",
    "    def lire_inf(self) -> float:\n",
    "        return self.__inf\n",
    "    \n",
    "    def lire_sup(self) -> float:\n",
    "        return self.__sup\n",
    "    \n",
    "    def __str__(self) -> str:\n",
    "        return f\"[{self.__inf}, {self.__sup}]\"\n",
    "    \n",
    "    def __contains__(self, val: float) -> bool:\n",
    "        return self.__inf <= val <= self.__sup\n",
    "    \n",
    "    def __add__(self, other: \"Intervalle\") -> Union[\"Intervalle\", bool]:\n",
    "        if not isinstance(other, Intervalle):\n",
    "            return False\n",
    "        return Intervalle(self.__inf + other.__inf, self.__sup + other.__sup)\n",
    "    \n",
    "    def __sup__(self, other: \"Intervalle\") -> Union[\"Intervalle\", bool]:\n",
    "        if not isinstance(other, Intervalle):\n",
    "            return False\n",
    "        return Intervalle(self.__inf - other.__inf, self.__sup - other.__sup)\n",
    "    \n",
    "    def __mul__(self, other: \"Intervalle\") -> Union[\"Intervalle\", bool]:\n",
    "        if not isinstance(other, Intervalle):\n",
    "            return False\n",
    "        return Intervalle(self.__inf * other.__inf, self.__sup * other.__sup)\n",
    "    \n",
    "    def __and__(self, other: \"Intervalle\") -> Union[\"Intervalle\", None]:\n",
    "        if not isinstance(other, Intervalle):\n",
    "            return None\n",
    "        borne_inf = max(self.__inf, other.__inf)\n",
    "        borne_sup = min(self.__sup, other.__sup)\n",
    "        if borne_inf <= borne_sup:\n",
    "            return Intervalle(borne_inf, borne_sup)\n",
    "        else:\n",
    "            return None\n",
    "\n",
    "\n",
    "def verifier_bon_format(val: Union[int, float]):\n",
    "    return isinstance(val, (int, float)) and val > 0"
   ]
  },
  {
   "cell_type": "code",
   "execution_count": 4,
   "id": "dcb0cbf7",
   "metadata": {},
   "outputs": [
    {
     "name": "stdout",
     "output_type": "stream",
     "text": [
      "[5, 10]\n",
      "False\n",
      "[7, 10]\n"
     ]
    }
   ],
   "source": [
    "#Utilisation de la classe Intervalle\n",
    "intervalle1 = Intervalle(1,10)\n",
    "intervalle1.modif_borne_inf(5)\n",
    "print(intervalle1)\n",
    "print(11 in intervalle1)\n",
    "\n",
    "intervalle2 = Intervalle(7, 14)\n",
    "print(intervalle1 & intervalle2)"
   ]
  },
  {
   "cell_type": "code",
   "execution_count": null,
   "id": "33572b28",
   "metadata": {},
   "outputs": [],
   "source": []
  }
 ],
 "metadata": {
  "kernelspec": {
   "display_name": "Python 3 (ipykernel)",
   "language": "python",
   "name": "python3"
  },
  "language_info": {
   "codemirror_mode": {
    "name": "ipython",
    "version": 3
   },
   "file_extension": ".py",
   "mimetype": "text/x-python",
   "name": "python",
   "nbconvert_exporter": "python",
   "pygments_lexer": "ipython3",
   "version": "3.10.9"
  }
 },
 "nbformat": 4,
 "nbformat_minor": 5
}
