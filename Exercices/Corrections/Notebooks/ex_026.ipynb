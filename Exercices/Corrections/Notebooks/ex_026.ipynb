{
 "cells": [
  {
   "cell_type": "code",
   "execution_count": 1,
   "id": "8ee790d8",
   "metadata": {},
   "outputs": [],
   "source": [
    "class VolDirect:\n",
    "    def __init__(self, dep: str, arr: str, jour: str, heure: int) -> None:\n",
    "        self.dep = dep\n",
    "        self.arr = arr\n",
    "        self.jour = jour\n",
    "        self.heure = heure\n",
    "\n",
    "    def afficher(self):\n",
    "        print(f\"Ce vol part de {self.dep} vers {self.arr} le {self.jour} à {self.heure} heure\")\n",
    "\n",
    "\n",
    "class Vols:\n",
    "    def __init__(self, liste_vol: list[VolDirect]) -> None:\n",
    "        self.liste_vol = liste_vol\n",
    "\n",
    "    def afficher_successeurs(self, ville_depart: str):\n",
    "        vols_concernes = filter(lambda vd: vd.dep == ville_depart, self.liste_vol)\n",
    "        successeurs =  list(map(lambda vd: vd.arr, vols_concernes))\n",
    "        print(f\"La liste des destinations à partir de {ville_depart} est: {successeurs}\")\n",
    "    \n",
    "    def afficher_appartenance(self, ville: str):\n",
    "        appartient = any(map(lambda vd: vd.dep == ville or vd.arr == ville, self.liste_vol))\n",
    "        if appartient:\n",
    "            print(f\"La ville {ville} fait partie du plan de vol!\")\n",
    "        else:\n",
    "            print(f\"La ville {ville} ne fait pas partie du plan de vol!\")\n",
    "\n",
    "    \n",
    "    def afficher(self):\n",
    "        print(\"=== Liste des vols ===\")\n",
    "        for vol_direct in self.liste_vol:\n",
    "            vol_direct.afficher()"
   ]
  },
  {
   "cell_type": "code",
   "execution_count": 2,
   "id": "142f63f5",
   "metadata": {},
   "outputs": [
    {
     "name": "stdout",
     "output_type": "stream",
     "text": [
      "=== Liste des vols ===\n",
      "Ce vol part de Paris vers Marseille le 17/9 à 4 heure\n",
      "Ce vol part de Paris vers Lyon le 21/9 à 8 heure\n",
      "Ce vol part de Marseille vers Lyon le 11/9 à 17 heure\n",
      "Ce vol part de Paris vers Bruxelles le 4/9 à 20 heure\n",
      "\n",
      "La ville Paris fait partie du plan de vol!\n",
      "La ville Bruxelles fait partie du plan de vol!\n",
      "La ville Bordeaux ne fait pas partie du plan de vol!\n",
      "\n",
      "La liste des destinations à partir de Paris est: ['Marseille', 'Lyon', 'Bruxelles']\n"
     ]
    }
   ],
   "source": [
    "lv: list[VolDirect] = []\n",
    "lv.append(VolDirect(\"Paris\", \"Marseille\", \"17/9\", 4))\n",
    "lv.append(VolDirect(\"Paris\", \"Lyon\", \"21/9\", 8))\n",
    "lv.append(VolDirect(\"Marseille\", \"Lyon\", \"11/9\", 17))\n",
    "lv.append(VolDirect(\"Paris\", \"Bruxelles\", \"4/9\", 20))\n",
    "\n",
    "v = Vols(lv)\n",
    "v.afficher()\n",
    "print()\n",
    "v.afficher_appartenance(\"Paris\")\n",
    "v.afficher_appartenance(\"Bruxelles\")\n",
    "v.afficher_appartenance(\"Bordeaux\")\n",
    "print()\n",
    "v.afficher_successeurs(\"Paris\")\n"
   ]
  },
  {
   "cell_type": "code",
   "execution_count": null,
   "id": "02b9381d",
   "metadata": {},
   "outputs": [],
   "source": []
  }
 ],
 "metadata": {
  "kernelspec": {
   "display_name": "Python 3 (ipykernel)",
   "language": "python",
   "name": "python3"
  },
  "language_info": {
   "codemirror_mode": {
    "name": "ipython",
    "version": 3
   },
   "file_extension": ".py",
   "mimetype": "text/x-python",
   "name": "python",
   "nbconvert_exporter": "python",
   "pygments_lexer": "ipython3",
   "version": "3.10.9"
  }
 },
 "nbformat": 4,
 "nbformat_minor": 5
}
