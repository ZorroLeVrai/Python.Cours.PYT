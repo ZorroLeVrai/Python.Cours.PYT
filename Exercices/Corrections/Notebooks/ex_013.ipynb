{
 "cells": [
  {
   "cell_type": "code",
   "execution_count": 1,
   "id": "bca7e081",
   "metadata": {},
   "outputs": [],
   "source": [
    "def transformation_fizz_buzz(nombre: int) -> str:\n",
    "    resultat = \"\"\n",
    "    if nombre % 3 == 0:\n",
    "        resultat += \"Fizz\"\n",
    "    if nombre % 5 == 0:\n",
    "        resultat += \"Buzz\"\n",
    "\n",
    "    # if resultat == \"\"\n",
    "    if not resultat:\n",
    "        resultat = str(nombre)\n",
    "\n",
    "    return resultat\n",
    "\n",
    "def fizz_buzz(nombre_max: int) -> list[str]:\n",
    "    result: list[str] = []\n",
    "    for nombre in range(1, nombre_max+1):\n",
    "        result.append(transformation_fizz_buzz(nombre))\n",
    "    return result\n",
    "\n",
    "\n",
    "def fizz_buzz_v2(nombre_max: int) -> list[str]:\n",
    "    return list(map(transformation_fizz_buzz, range(1, nombre_max+1)))"
   ]
  },
  {
   "cell_type": "code",
   "execution_count": 2,
   "id": "f89b9f55",
   "metadata": {},
   "outputs": [
    {
     "name": "stdout",
     "output_type": "stream",
     "text": [
      "Calcul FizzBuzz\n",
      "Saisissez un nombre entre 1 et 100: 30\n",
      "1\n",
      "2\n",
      "Fizz\n",
      "4\n",
      "Buzz\n",
      "Fizz\n",
      "7\n",
      "8\n",
      "Fizz\n",
      "Buzz\n",
      "11\n",
      "Fizz\n",
      "13\n",
      "14\n",
      "FizzBuzz\n",
      "16\n",
      "17\n",
      "Fizz\n",
      "19\n",
      "Buzz\n",
      "Fizz\n",
      "22\n",
      "23\n",
      "Fizz\n",
      "Buzz\n",
      "26\n",
      "Fizz\n",
      "28\n",
      "29\n",
      "FizzBuzz\n"
     ]
    }
   ],
   "source": [
    "print(\"Calcul FizzBuzz\")\n",
    "nb = int(input(\"Saisissez un nombre entre 1 et 100: \"))\n",
    "resultats = fizz_buzz_v2(nb)\n",
    "for resultat in resultats:\n",
    "    print(resultat)"
   ]
  },
  {
   "cell_type": "code",
   "execution_count": null,
   "id": "43765aa2",
   "metadata": {},
   "outputs": [],
   "source": []
  }
 ],
 "metadata": {
  "kernelspec": {
   "display_name": "Python 3 (ipykernel)",
   "language": "python",
   "name": "python3"
  },
  "language_info": {
   "codemirror_mode": {
    "name": "ipython",
    "version": 3
   },
   "file_extension": ".py",
   "mimetype": "text/x-python",
   "name": "python",
   "nbconvert_exporter": "python",
   "pygments_lexer": "ipython3",
   "version": "3.10.9"
  }
 },
 "nbformat": 4,
 "nbformat_minor": 5
}
