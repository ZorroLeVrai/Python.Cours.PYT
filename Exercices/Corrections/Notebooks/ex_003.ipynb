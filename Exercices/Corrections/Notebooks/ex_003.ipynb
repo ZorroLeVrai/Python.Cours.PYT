{
 "cells": [
  {
   "cell_type": "code",
   "execution_count": 1,
   "id": "a8d66593",
   "metadata": {},
   "outputs": [
    {
     "name": "stdout",
     "output_type": "stream",
     "text": [
      "Saisissez l'age (en années): 18\n",
      "Majeur\n"
     ]
    }
   ],
   "source": [
    "age = float(input(\"Saisissez l'age (en années): \"))\n",
    "if age < 18:\n",
    "    print(\"Mineur\")\n",
    "else:\n",
    "    print(\"Majeur\")"
   ]
  },
  {
   "cell_type": "code",
   "execution_count": null,
   "id": "8bcea3ad",
   "metadata": {},
   "outputs": [],
   "source": []
  }
 ],
 "metadata": {
  "kernelspec": {
   "display_name": "Python 3 (ipykernel)",
   "language": "python",
   "name": "python3"
  },
  "language_info": {
   "codemirror_mode": {
    "name": "ipython",
    "version": 3
   },
   "file_extension": ".py",
   "mimetype": "text/x-python",
   "name": "python",
   "nbconvert_exporter": "python",
   "pygments_lexer": "ipython3",
   "version": "3.10.9"
  }
 },
 "nbformat": 4,
 "nbformat_minor": 5
}
