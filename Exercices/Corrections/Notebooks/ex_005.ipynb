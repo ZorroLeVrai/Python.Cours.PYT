{
 "cells": [
  {
   "cell_type": "code",
   "execution_count": 1,
   "id": "ef097349",
   "metadata": {},
   "outputs": [
    {
     "name": "stdout",
     "output_type": "stream",
     "text": [
      "Saisir age: 32\n",
      "Saisir le salaire souhaité (En Euros): 50000\n",
      "Saisir le nombre d'années d'expérience: 2\n",
      "Le salaire maximum possible est 40 000 euros.\n",
      "Le nombre d'années d'expérience minimum est de 5 ans.\n"
     ]
    }
   ],
   "source": [
    "age = int(input(\"Saisir age: \"))\n",
    "salaire_euros = float(input(\"Saisir le salaire souhaité (En Euros): \"))\n",
    "annees_experience = int(input(\"Saisir le nombre d'années d'expérience: \"))\n",
    "\n",
    "conditions_poste = True\n",
    "if age < 30:\n",
    "    print(\"L'âge minimum pour le poste est 30 ans.\")\n",
    "    conditions_poste = False\n",
    "\n",
    "if salaire_euros > 40_000:\n",
    "    print(\"Le salaire maximum possible est 40 000 euros.\")\n",
    "    conditions_poste = False\n",
    "\n",
    "if annees_experience < 5:\n",
    "    print(\"Le nombre d'années d'expérience minimum est de 5 ans.\")\n",
    "    conditions_poste = False\n",
    "\n",
    "if conditions_poste:\n",
    "    print(\"Toutes les conditions sont respectées pour le poste\")\n"
   ]
  },
  {
   "cell_type": "code",
   "execution_count": null,
   "id": "a1acb7c2",
   "metadata": {},
   "outputs": [],
   "source": []
  }
 ],
 "metadata": {
  "kernelspec": {
   "display_name": "Python 3 (ipykernel)",
   "language": "python",
   "name": "python3"
  },
  "language_info": {
   "codemirror_mode": {
    "name": "ipython",
    "version": 3
   },
   "file_extension": ".py",
   "mimetype": "text/x-python",
   "name": "python",
   "nbconvert_exporter": "python",
   "pygments_lexer": "ipython3",
   "version": "3.10.9"
  }
 },
 "nbformat": 4,
 "nbformat_minor": 5
}
