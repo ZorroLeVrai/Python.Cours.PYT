{
 "cells": [
  {
   "cell_type": "code",
   "execution_count": 1,
   "id": "2c24e574",
   "metadata": {},
   "outputs": [],
   "source": [
    "def fibonacci_iterative(n: int) -> int:\n",
    "    if n < 2:\n",
    "        return n\n",
    "    previous = 0\n",
    "    current = 1\n",
    "    for _ in range(2, n+1):\n",
    "        [current, previous] = [current + previous, current]\n",
    "\n",
    "    return current\n",
    "\n",
    "\n",
    "def fibonacci_recursive(n: int) -> int:\n",
    "    if n < 2:\n",
    "        return n\n",
    "    return fibonacci_recursive(n-1) + fibonacci_recursive(n-2)\n",
    "\n",
    "\n",
    "def fibonacci_tail_recursive(n: int) -> int:\n",
    "    def fibonacci_local(current_term: int, current: int, previous: int) -> int:\n",
    "        if current_term == n:\n",
    "            return current\n",
    "        return fibonacci_local(current_term+1, current+previous, current)\n",
    "    \n",
    "    if n < 2:\n",
    "        return n\n",
    "    return fibonacci_local(2, 1, 1)"
   ]
  },
  {
   "cell_type": "code",
   "execution_count": 3,
   "id": "cb875f8c",
   "metadata": {},
   "outputs": [
    {
     "name": "stdout",
     "output_type": "stream",
     "text": [
      "89\n",
      "89\n",
      "89\n"
     ]
    }
   ],
   "source": [
    "nb_terme = 11\n",
    "print(fibonacci_iterative(nb_terme))\n",
    "print(fibonacci_recursive(nb_terme))\n",
    "print(fibonacci_tail_recursive(nb_terme))"
   ]
  },
  {
   "cell_type": "code",
   "execution_count": null,
   "id": "d7ceb989",
   "metadata": {},
   "outputs": [],
   "source": []
  }
 ],
 "metadata": {
  "kernelspec": {
   "display_name": "Python 3 (ipykernel)",
   "language": "python",
   "name": "python3"
  },
  "language_info": {
   "codemirror_mode": {
    "name": "ipython",
    "version": 3
   },
   "file_extension": ".py",
   "mimetype": "text/x-python",
   "name": "python",
   "nbconvert_exporter": "python",
   "pygments_lexer": "ipython3",
   "version": "3.10.9"
  }
 },
 "nbformat": 4,
 "nbformat_minor": 5
}
