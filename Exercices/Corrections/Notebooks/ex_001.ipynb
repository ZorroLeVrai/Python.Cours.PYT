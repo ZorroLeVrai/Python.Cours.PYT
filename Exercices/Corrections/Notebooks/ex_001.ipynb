{
 "cells": [
  {
   "cell_type": "code",
   "execution_count": 1,
   "id": "5341de0e",
   "metadata": {},
   "outputs": [
    {
     "name": "stdout",
     "output_type": "stream",
     "text": [
      "Entrez votre prénom: Toto\n",
      "Entrez votre nom: Doe\n",
      "Bonjour M. Ou Mme Toto DOE\n"
     ]
    }
   ],
   "source": [
    "prenom = input(\"Entrez votre prénom: \")\n",
    "nom = input(\"Entrez votre nom: \")\n",
    "\n",
    "print(f\"Bonjour M. Ou Mme {prenom.capitalize()} {nom.upper()}\")"
   ]
  },
  {
   "cell_type": "code",
   "execution_count": null,
   "id": "c6343772",
   "metadata": {},
   "outputs": [],
   "source": []
  }
 ],
 "metadata": {
  "kernelspec": {
   "display_name": "Python 3 (ipykernel)",
   "language": "python",
   "name": "python3"
  },
  "language_info": {
   "codemirror_mode": {
    "name": "ipython",
    "version": 3
   },
   "file_extension": ".py",
   "mimetype": "text/x-python",
   "name": "python",
   "nbconvert_exporter": "python",
   "pygments_lexer": "ipython3",
   "version": "3.10.9"
  }
 },
 "nbformat": 4,
 "nbformat_minor": 5
}
