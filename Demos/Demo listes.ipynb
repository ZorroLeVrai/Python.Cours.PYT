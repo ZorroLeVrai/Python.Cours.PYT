{
 "cells": [
  {
   "cell_type": "code",
   "execution_count": 1,
   "id": "758a4597",
   "metadata": {},
   "outputs": [],
   "source": [
    "liste = [1, 2, 3, 4, 5, 6, 7, 8, 9]"
   ]
  },
  {
   "cell_type": "code",
   "execution_count": 2,
   "id": "e705209f",
   "metadata": {},
   "outputs": [
    {
     "data": {
      "text/plain": [
       "9"
      ]
     },
     "execution_count": 2,
     "metadata": {},
     "output_type": "execute_result"
    }
   ],
   "source": [
    "#longueur d'une chaine de caractères\n",
    "len(liste)"
   ]
  },
  {
   "cell_type": "code",
   "execution_count": 3,
   "id": "ad1391dd",
   "metadata": {},
   "outputs": [
    {
     "data": {
      "text/plain": [
       "1"
      ]
     },
     "execution_count": 3,
     "metadata": {},
     "output_type": "execute_result"
    }
   ],
   "source": [
    "#premier élément de la liste\n",
    "liste[0]"
   ]
  },
  {
   "cell_type": "code",
   "execution_count": 4,
   "id": "11abb2fd",
   "metadata": {},
   "outputs": [
    {
     "data": {
      "text/plain": [
       "3"
      ]
     },
     "execution_count": 4,
     "metadata": {},
     "output_type": "execute_result"
    }
   ],
   "source": [
    "#3ème élément de la liste\n",
    "liste[2]"
   ]
  },
  {
   "cell_type": "code",
   "execution_count": 5,
   "id": "47f269bd",
   "metadata": {},
   "outputs": [
    {
     "data": {
      "text/plain": [
       "9"
      ]
     },
     "execution_count": 5,
     "metadata": {},
     "output_type": "execute_result"
    }
   ],
   "source": [
    "#dernier élément d'une liste\n",
    "liste[-1]"
   ]
  },
  {
   "cell_type": "code",
   "execution_count": 7,
   "id": "d6fef736",
   "metadata": {},
   "outputs": [
    {
     "data": {
      "text/plain": [
       "[2, 3, 4]"
      ]
     },
     "execution_count": 7,
     "metadata": {},
     "output_type": "execute_result"
    }
   ],
   "source": [
    "#Sous liste du 2ème caractère au 5ème caractère non inclus\n",
    "# ma_liste[index_debut, index_fin]\n",
    "liste[1:4]"
   ]
  },
  {
   "cell_type": "code",
   "execution_count": 8,
   "id": "126b3e0a",
   "metadata": {},
   "outputs": [
    {
     "data": {
      "text/plain": [
       "[1, 2, 3, 4]"
      ]
     },
     "execution_count": 8,
     "metadata": {},
     "output_type": "execute_result"
    }
   ],
   "source": [
    "#Sous liste des 4 premiers éléments\n",
    "liste[:4]"
   ]
  },
  {
   "cell_type": "code",
   "execution_count": 9,
   "id": "f59fa70e",
   "metadata": {},
   "outputs": [
    {
     "data": {
      "text/plain": [
       "[3, 4, 5, 6, 7, 8, 9]"
      ]
     },
     "execution_count": 9,
     "metadata": {},
     "output_type": "execute_result"
    }
   ],
   "source": [
    "#Sous liste à partir de l'index 2\n",
    "liste[2:]"
   ]
  },
  {
   "cell_type": "code",
   "execution_count": 13,
   "id": "419c7829",
   "metadata": {},
   "outputs": [
    {
     "data": {
      "text/plain": [
       "[1, 3, 5, 7, 9]"
      ]
     },
     "execution_count": 13,
     "metadata": {},
     "output_type": "execute_result"
    }
   ],
   "source": [
    "# ma_liste[index_debut, index_fin, pas]\n",
    "liste[0:len(liste):2]"
   ]
  }
 ],
 "metadata": {
  "kernelspec": {
   "display_name": "Python 3 (ipykernel)",
   "language": "python",
   "name": "python3"
  },
  "language_info": {
   "codemirror_mode": {
    "name": "ipython",
    "version": 3
   },
   "file_extension": ".py",
   "mimetype": "text/x-python",
   "name": "python",
   "nbconvert_exporter": "python",
   "pygments_lexer": "ipython3",
   "version": "3.11.5"
  }
 },
 "nbformat": 4,
 "nbformat_minor": 5
}
