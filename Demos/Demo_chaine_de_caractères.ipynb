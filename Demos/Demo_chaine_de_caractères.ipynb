{
 "cells": [
  {
   "cell_type": "code",
   "execution_count": 2,
   "id": "1d098eb5",
   "metadata": {},
   "outputs": [],
   "source": [
    "texte = \"ABCDEFGH\""
   ]
  },
  {
   "cell_type": "code",
   "execution_count": 4,
   "id": "ee4962f8",
   "metadata": {},
   "outputs": [
    {
     "data": {
      "text/plain": [
       "'A'"
      ]
     },
     "execution_count": 4,
     "metadata": {},
     "output_type": "execute_result"
    }
   ],
   "source": [
    "# récupérarion de la première lettre\n",
    "texte[0]"
   ]
  },
  {
   "cell_type": "code",
   "execution_count": 6,
   "id": "f92600de",
   "metadata": {},
   "outputs": [
    {
     "data": {
      "text/plain": [
       "'CDE'"
      ]
     },
     "execution_count": 6,
     "metadata": {},
     "output_type": "execute_result"
    }
   ],
   "source": [
    "# extraction d'une sous chaine de caractère\n",
    "# du 2ème caractère au 5ème caractère non inclus\n",
    "texte[2:5]"
   ]
  },
  {
   "cell_type": "code",
   "execution_count": 8,
   "id": "55c1b636",
   "metadata": {},
   "outputs": [
    {
     "data": {
      "text/plain": [
       "'ACEG'"
      ]
     },
     "execution_count": 8,
     "metadata": {},
     "output_type": "execute_result"
    }
   ],
   "source": [
    "# ma_chaine_de_caracteres[index_debut, index_fin, pas]\n",
    "texte[::2]"
   ]
  },
  {
   "cell_type": "code",
   "execution_count": 10,
   "id": "4699e829",
   "metadata": {},
   "outputs": [
    {
     "data": {
      "text/plain": [
       "'HGFEDCBA'"
      ]
     },
     "execution_count": 10,
     "metadata": {},
     "output_type": "execute_result"
    }
   ],
   "source": [
    "# inversion d'une chaine de caractères\n",
    "texte[::-1]"
   ]
  }
 ],
 "metadata": {
  "kernelspec": {
   "display_name": "Python 3 (ipykernel)",
   "language": "python",
   "name": "python3"
  },
  "language_info": {
   "codemirror_mode": {
    "name": "ipython",
    "version": 3
   },
   "file_extension": ".py",
   "mimetype": "text/x-python",
   "name": "python",
   "nbconvert_exporter": "python",
   "pygments_lexer": "ipython3",
   "version": "3.11.5"
  }
 },
 "nbformat": 4,
 "nbformat_minor": 5
}
